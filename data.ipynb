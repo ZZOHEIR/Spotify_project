{
 "cells": [
  {
   "cell_type": "code",
   "execution_count": 19,
   "metadata": {},
   "outputs": [],
   "source": [
    "import pandas as pd\n"
   ]
  },
  {
   "cell_type": "code",
   "execution_count": 28,
   "metadata": {},
   "outputs": [],
   "source": [
    "data = pd.read_csv(r'C:\\Users\\Hp\\Desktop\\dataset\\Spotify_project\\data (2).csv')\n",
    "genre_data = pd.read_csv(r'C:\\Users\\Hp\\Desktop\\dataset\\Spotify_project\\data_by_genres.csv')\n",
    "artist_data = pd.read_csv(r'C:\\Users\\Hp\\Desktop\\dataset\\Spotify_project\\data_by_artist.csv')\n",
    "yaer_data = pd.read_csv(r'C:\\Users\\Hp\\Desktop\\dataset\\Spotify_project\\data_by_year.csv')"
   ]
  },
  {
   "cell_type": "code",
   "execution_count": 34,
   "metadata": {},
   "outputs": [],
   "source": [
    "# Create a decade column in data representing the decade of each track using apply() and a lambda function.\n",
    "data['decade'] = data['year'].apply(lambda x: str(x)[:-1] + \"0\")"
   ]
  }
 ],
 "metadata": {
  "kernelspec": {
   "display_name": ".venv",
   "language": "python",
   "name": "python3"
  },
  "language_info": {
   "codemirror_mode": {
    "name": "ipython",
    "version": 3
   },
   "file_extension": ".py",
   "mimetype": "text/x-python",
   "name": "python",
   "nbconvert_exporter": "python",
   "pygments_lexer": "ipython3",
   "version": "3.9.6"
  }
 },
 "nbformat": 4,
 "nbformat_minor": 2
}
